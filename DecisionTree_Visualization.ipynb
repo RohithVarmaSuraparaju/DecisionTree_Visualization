{
 "cells": [
  {
   "cell_type": "markdown",
   "id": "8da4c865",
   "metadata": {},
   "source": [
    "\n",
    "# Decision Tree Visualization – Starter Notebook\n",
    "\n",
    "This notebook loads a small categorical dataset, trains a Decision Tree classifier with scikit-learn, and visualizes the tree and feature importances.\n",
    "\n",
    "**What you'll need:**  \n",
    "- `pandas`, `scikit-learn`, `matplotlib`\n",
    "\n",
    "Run the cells in order. Modify the dataset or model settings as you like.\n"
   ]
  },
  {
   "cell_type": "code",
   "execution_count": null,
   "id": "231038fd",
   "metadata": {},
   "outputs": [],
   "source": [
    "# If needed, uncomment and run:\n",
    "# !pip install pandas scikit-learn matplotlib\n"
   ]
  },
  {
   "cell_type": "markdown",
   "id": "d1060b48",
   "metadata": {},
   "source": [
    "## 1) Create the dataset"
   ]
  },
  {
   "cell_type": "code",
   "execution_count": null,
   "id": "b3dfb196",
   "metadata": {},
   "outputs": [],
   "source": [
    "import pandas as pd\n",
    "\n",
    "data = {\n",
    "    \"Age\": [\"<=30\", \"<=30\", \"31-40\", \">40\", \">40\", \">40\", \"31-40\", \"<=30\", \"<=30\", \">40\", \"<=30\", \"31-40\", \"31-40\", \">40\"],\n",
    "    \"Income\": [\"High\", \"High\", \"High\", \"Medium\", \"Low\", \"Low\", \"Low\", \"Medium\", \"Low\", \"Medium\", \"Medium\", \"Medium\", \"High\", \"Medium\"],\n",
    "    \"Student\": [\"No\", \"No\", \"No\", \"No\", \"Yes\", \"Yes\", \"Yes\", \"No\", \"Yes\", \"Yes\", \"Yes\", \"No\", \"Yes\", \"No\"],\n",
    "    \"Credit_Rating\": [\"Fair\", \"Excellent\", \"Fair\", \"Fair\", \"Fair\", \"Excellent\", \"Excellent\", \"Fair\", \"Fair\", \"Fair\", \"Excellent\", \"Excellent\", \"Fair\", \"Excellent\"],\n",
    "    \"Buys_Computer\": [\"No\", \"No\", \"Yes\", \"Yes\", \"Yes\", \"No\", \"Yes\", \"No\", \"Yes\", \"Yes\", \"Yes\", \"Yes\", \"Yes\", \"No\"]\n",
    "}\n",
    "df = pd.DataFrame(data)\n",
    "df.head()"
   ]
  },
  {
   "cell_type": "markdown",
   "id": "721bea61",
   "metadata": {},
   "source": [
    "## 2) Encode categoricals and train the decision tree"
   ]
  },
  {
   "cell_type": "code",
   "execution_count": null,
   "id": "8cef29e4",
   "metadata": {},
   "outputs": [],
   "source": [
    "from sklearn.preprocessing import OneHotEncoder\n",
    "from sklearn.compose import ColumnTransformer\n",
    "from sklearn.pipeline import Pipeline\n",
    "from sklearn.tree import DecisionTreeClassifier\n",
    "\n",
    "X = df.drop(columns=[\"Buys_Computer\"])\n",
    "y = df[\"Buys_Computer\"]\n",
    "\n",
    "categorical_cols = X.columns.tolist()\n",
    "\n",
    "preprocess = ColumnTransformer(\n",
    "    transformers=[(\"cat\", OneHotEncoder(handle_unknown=\"ignore\"), categorical_cols)]\n",
    ")\n",
    "\n",
    "clf = DecisionTreeClassifier(criterion=\"entropy\", max_depth=3, random_state=42)\n",
    "\n",
    "pipe = Pipeline(steps=[(\"preprocess\", preprocess),\n",
    "                      (\"model\", clf)])\n",
    "\n",
    "pipe.fit(X, y)\n",
    "print(\"Model trained.\")"
   ]
  },
  {
   "cell_type": "markdown",
   "id": "78e24799",
   "metadata": {},
   "source": [
    "## 3) Visualize the tree"
   ]
  },
  {
   "cell_type": "code",
   "execution_count": null,
   "id": "7bbeaaaa",
   "metadata": {},
   "outputs": [],
   "source": [
    "import matplotlib.pyplot as plt\n",
    "from sklearn import tree\n",
    "import numpy as np\n",
    "\n",
    "# Get feature names after one-hot encoding\n",
    "ohe: OneHotEncoder = pipe.named_steps[\"preprocess\"].named_transformers_[\"cat\"]\n",
    "feature_names = ohe.get_feature_names_out(categorical_cols)\n",
    "\n",
    "plt.figure(figsize=(16, 10))\n",
    "tree.plot_tree(\n",
    "    pipe.named_steps[\"model\"],\n",
    "    feature_names=feature_names,\n",
    "    class_names=np.unique(y),\n",
    "    filled=True,\n",
    "    rounded=True\n",
    ")\n",
    "plt.title(\"Decision Tree for 'Buys_Computer'\")\n",
    "plt.show()"
   ]
  },
  {
   "cell_type": "markdown",
   "id": "685d18a0",
   "metadata": {},
   "source": [
    "## 4) Feature importances"
   ]
  },
  {
   "cell_type": "code",
   "execution_count": null,
   "id": "732f8cf5",
   "metadata": {},
   "outputs": [],
   "source": [
    "import matplotlib.pyplot as plt\n",
    "\n",
    "importances = pipe.named_steps[\"model\"].feature_importances_\n",
    "idx = importances.argsort()[::-1]\n",
    "\n",
    "plt.figure(figsize=(10, 5))\n",
    "plt.bar(range(len(importances)), importances[idx])\n",
    "plt.xticks(range(len(importances)), feature_names[idx], rotation=45, ha=\"right\")\n",
    "plt.ylabel(\"Importance\")\n",
    "plt.title(\"Feature Importances\")\n",
    "plt.tight_layout()\n",
    "plt.show()"
   ]
  },
  {
   "cell_type": "markdown",
   "id": "f45a526b",
   "metadata": {},
   "source": [
    "## 5) Make a sample prediction"
   ]
  },
  {
   "cell_type": "code",
   "execution_count": null,
   "id": "9c99edbe",
   "metadata": {},
   "outputs": [],
   "source": [
    "sample = pd.DataFrame([{\n",
    "    \"Age\": \"<=30\",\n",
    "    \"Income\": \"Medium\",\n",
    "    \"Student\": \"Yes\",\n",
    "    \"Credit_Rating\": \"Fair\"\n",
    "}])\n",
    "pred = pipe.predict(sample)[0]\n",
    "print(\"Prediction for sample input:\", pred)"
   ]
  }
 ],
 "metadata": {},
 "nbformat": 4,
 "nbformat_minor": 5
}
